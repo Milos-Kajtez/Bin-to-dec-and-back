{
 "cells": [
  {
   "cell_type": "code",
   "execution_count": 4,
   "id": "9d647a36",
   "metadata": {},
   "outputs": [],
   "source": [
    "def bintodec():\n",
    "    square = 0\n",
    "    result = 0\n",
    "    \n",
    "    bin = input('Enter the binary code you want to convert in a decimal number: ')\n",
    "    bin = list(bin)\n",
    "    bin.reverse()\n",
    "    \n",
    "    for i in bin:\n",
    "        if int(i) == 0: \n",
    "            square += 1\n",
    "\n",
    "        elif int(i) == 1:\n",
    "            square +=1\n",
    "            result += 2**square\n",
    "            \n",
    "    result = result / 2\n",
    "            \n",
    "            \n",
    "    print(f'The binary number you have entered translaes into a decimal as: {result}')\n",
    "            \n",
    "        \n",
    "        "
   ]
  },
  {
   "cell_type": "code",
   "execution_count": 5,
   "id": "c969d7b2",
   "metadata": {},
   "outputs": [],
   "source": [
    "def dectobin():\n",
    "    bin = []\n",
    "    \n",
    "    dec = int(input('Enter the decimal number to be converted into a binary code: '))\n",
    "    \n",
    "    while dec >= 1:\n",
    "        \n",
    "        if dec % 2 != 0:\n",
    "            bin.append('1')\n",
    "            \n",
    "        elif dec % 2 == 0:\n",
    "            bin.append('0')\n",
    "        \n",
    "        dec = dec // 2\n",
    "        \n",
    "        \n",
    "        \n",
    "    bin.reverse()\n",
    "    bin = ''.join(bin)\n",
    "    print(f'The decimal number you have entered translates into binary code as: {bin}')\n",
    "    "
   ]
  },
  {
   "cell_type": "code",
   "execution_count": 6,
   "id": "4878c6d4",
   "metadata": {},
   "outputs": [],
   "source": [
    "def main(): \n",
    "\n",
    "    while True: \n",
    "        \n",
    "        print('Welcome to binary to decimal and back conventer')\n",
    "        print('Choose from the menu below:')\n",
    "        print('a - binary to decimal')\n",
    "        print('b - decimal to binary')\n",
    "\n",
    "        ask = input('Which option are you choosing? (a or b): ')\n",
    "\n",
    "        if ask.lower() == 'a':\n",
    "            bintodec()\n",
    "\n",
    "        elif ask.lower() == 'b':\n",
    "            dectobin()\n",
    "\n",
    "        else:\n",
    "            print('ERROR: INVALID INPUT (try again)')\n",
    "            continue\n",
    "\n",
    "        cont = input('Do you want to convert another digit? (y or n): ')\n",
    "\n",
    "        if cont.lower == 'y':\n",
    "            continue\n",
    "\n",
    "        else:\n",
    "            print('-SCRIPT END-')\n",
    "            break\n",
    "            \n"
   ]
  },
  {
   "cell_type": "code",
   "execution_count": 7,
   "id": "4929d2ea",
   "metadata": {},
   "outputs": [
    {
     "name": "stdout",
     "output_type": "stream",
     "text": [
      "Welcome to binary to decimal and back conventer\n",
      "Choose from the menu below:\n",
      "a - binary to decimal\n",
      "b - decimal to binary\n",
      "Which option are you choosing? (a or b): b\n",
      "Enter the decimal number to be converted into a binary code: 44\n",
      "The decimal number you have entered translates into binary code as: 101100\n",
      "Do you want to convert another digit? (y or n): n\n",
      "-SCRIPT END-\n"
     ]
    }
   ],
   "source": [
    "main()"
   ]
  },
  {
   "cell_type": "code",
   "execution_count": null,
   "id": "5e353da5",
   "metadata": {},
   "outputs": [],
   "source": []
  }
 ],
 "metadata": {
  "kernelspec": {
   "display_name": "Python 3 (ipykernel)",
   "language": "python",
   "name": "python3"
  },
  "language_info": {
   "codemirror_mode": {
    "name": "ipython",
    "version": 3
   },
   "file_extension": ".py",
   "mimetype": "text/x-python",
   "name": "python",
   "nbconvert_exporter": "python",
   "pygments_lexer": "ipython3",
   "version": "3.9.12"
  }
 },
 "nbformat": 4,
 "nbformat_minor": 5
}
